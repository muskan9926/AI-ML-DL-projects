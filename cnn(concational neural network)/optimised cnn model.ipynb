{
 "cells": [
  {
   "cell_type": "code",
   "execution_count": null,
   "id": "78843181",
   "metadata": {},
   "outputs": [],
   "source": [
    "from keras.preprocessing.image import ImageDataGenerator\n",
    "# from keras.preprocessing.image import img_to_array\n",
    "from tensorflow.keras.utils import img_to_array\n",
    "from tensorflow.keras.preprocessing.image import load_img \n",
    "\n",
    "datagen = ImageDataGenerator(\n",
    "        rotation_range=40,\n",
    "        width_shift_range=0.2,\n",
    "        height_shift_range=0.2,\n",
    "        shear_range=0.2,\n",
    "        zoom_range=0.2,\n",
    "        horizontal_flip=True,\n",
    "        fill_mode='nearest')\n",
    "\n",
    "img = load_img('lords.jpg')  # this is a PIL image\n",
    "x = img_to_array(img)  # this is a Numpy array with shape (3, 150, 150)\n",
    "x = x.reshape((1,) + x.shape)  # this is a Numpy array with shape (1, 3, 150, 150)\n",
    "\n",
    "# the .flow() command below generates batches of randomly transformed images\n",
    "# and saves the results to the `preview/` directory\n",
    "i = 0\n",
    "for batch in datagen.flow(x, batch_size=1,\n",
    "                          save_to_dir='preview', save_prefix='new', save_format='jpeg'):\n",
    "    i += 1\n",
    "    if i > 20:\n",
    "        break  # otherwise the generator would loop indefinitely"
   ]
  },
  {
   "cell_type": "code",
   "execution_count": 12,
   "id": "01009d7d",
   "metadata": {},
   "outputs": [],
   "source": [
    "import tensorflow as tf\n",
    "from tensorflow import keras\n",
    "import numpy as np"
   ]
  },
  {
   "cell_type": "code",
   "execution_count": 14,
   "id": "e99a9a57",
   "metadata": {},
   "outputs": [],
   "source": [
    "fashion_mnist=keras.datasets.fashion_mnist\n"
   ]
  },
  {
   "cell_type": "code",
   "execution_count": 15,
   "id": "8fbe0975",
   "metadata": {},
   "outputs": [],
   "source": [
    "(train_images,train_labels),(test_images,test_labels)=fashion_mnist.load_data()"
   ]
  },
  {
   "cell_type": "code",
   "execution_count": 16,
   "id": "a5ba1ba7",
   "metadata": {},
   "outputs": [],
   "source": [
    "#scalling\n",
    "train_images=train_images/255.0\n",
    "test_images=test_images/255.0"
   ]
  },
  {
   "cell_type": "code",
   "execution_count": 18,
   "id": "44118073",
   "metadata": {},
   "outputs": [
    {
     "data": {
      "text/plain": [
       "(28, 28)"
      ]
     },
     "execution_count": 18,
     "metadata": {},
     "output_type": "execute_result"
    }
   ],
   "source": [
    "train_images[0].shape\n"
   ]
  },
  {
   "cell_type": "code",
   "execution_count": 20,
   "id": "8bf8a041",
   "metadata": {},
   "outputs": [],
   "source": [
    "train_images=train_images.reshape(len(train_images),28,28,1)\n",
    "test_images=test_images.reshape(len(test_images),28,28,1)"
   ]
  },
  {
   "cell_type": "code",
   "execution_count": 21,
   "id": "c4a4b155",
   "metadata": {},
   "outputs": [
    {
     "data": {
      "text/plain": [
       "(28, 28, 1)"
      ]
     },
     "execution_count": 21,
     "metadata": {},
     "output_type": "execute_result"
    }
   ],
   "source": [
    "train_images[0].shape"
   ]
  },
  {
   "cell_type": "code",
   "execution_count": 62,
   "id": "c906607e",
   "metadata": {},
   "outputs": [],
   "source": [
    "def build_model(hp):\n",
    "    model=keras.Sequential([keras.layers.Conv2D(\n",
    "    filters=hp.Int('convo_1_filter',min_value=32,max_value=128,step=16),\n",
    "    kernel_size=hp.Choice('conv_1_kerel',values=[3,5]),\n",
    "    activation='relu',\n",
    "    input_shape=(28,28,1)\n",
    "    ),\n",
    "    keras.layers.Conv2D(\n",
    "    filters=hp.Int('convo_2_filter',min_value=32,max_value=68,step=16),\n",
    "    kernel_size=hp.Choice('conv_2_kerel',values=[3,5]),\n",
    "    activation='relu',\n",
    "    ),\n",
    "    keras.layers.Flatten(),\n",
    "    keras.layers.Dense(\n",
    "           units=hp.Int('dense_1',min_value=32,max_value=128,step=16),\n",
    "        activation='relu'\n",
    "    ),\n",
    "#                             last dense layer\n",
    "        keras.layers.Dense(10,'softmax')\n",
    "                            \n",
    "                           ])\n",
    "    model.compile(optimizer=keras.optimizers.Adam(hp.Choice('learning_rate',values=[1e-2,1e-3])),\n",
    "                 \n",
    "                 loss='sparse_categorical_crossentropy',metrics=['accuracy'])\n",
    "    return model"
   ]
  },
  {
   "cell_type": "code",
   "execution_count": 63,
   "id": "cf61e76e",
   "metadata": {},
   "outputs": [],
   "source": [
    "from kerastuner import RandomSearch\n",
    "from kerastuner.engine.hyperparameters import HyperParameters"
   ]
  },
  {
   "cell_type": "code",
   "execution_count": 64,
   "id": "34eacd68",
   "metadata": {},
   "outputs": [
    {
     "name": "stdout",
     "output_type": "stream",
     "text": [
      "INFO:tensorflow:Reloading Oracle from existing project output/Mnist Fashion/oracle.json\n"
     ]
    }
   ],
   "source": [
    "tuner_search=RandomSearch(build_model,objective='val_accuracy',max_trials=5,directory='output',project_name='Mnist Fashion')"
   ]
  },
  {
   "cell_type": "code",
   "execution_count": 65,
   "id": "1140d799",
   "metadata": {},
   "outputs": [
    {
     "name": "stdout",
     "output_type": "stream",
     "text": [
      "Trial 5 Complete [00h 01m 11s]\n",
      "val_accuracy: 0.8793333172798157\n",
      "\n",
      "Best val_accuracy So Far: 0.9053333401679993\n",
      "Total elapsed time: 00h 05m 57s\n",
      "INFO:tensorflow:Oracle triggered exit\n"
     ]
    }
   ],
   "source": [
    "tuner_search.search(train_images,train_labels,epochs=3,validation_split=0.1)"
   ]
  },
  {
   "cell_type": "code",
   "execution_count": 67,
   "id": "ebfc87f4",
   "metadata": {},
   "outputs": [],
   "source": [
    "model=tuner_search.get_best_models(num_models=1)[0]"
   ]
  },
  {
   "cell_type": "code",
   "execution_count": 68,
   "id": "fbd12dc2",
   "metadata": {},
   "outputs": [
    {
     "name": "stdout",
     "output_type": "stream",
     "text": [
      "Model: \"sequential\"\n",
      "_________________________________________________________________\n",
      " Layer (type)                Output Shape              Param #   \n",
      "=================================================================\n",
      " conv2d (Conv2D)             (None, 24, 24, 48)        1248      \n",
      "                                                                 \n",
      " conv2d_1 (Conv2D)           (None, 20, 20, 64)        76864     \n",
      "                                                                 \n",
      " flatten (Flatten)           (None, 25600)             0         \n",
      "                                                                 \n",
      " dense (Dense)               (None, 80)                2048080   \n",
      "                                                                 \n",
      " dense_1 (Dense)             (None, 10)                810       \n",
      "                                                                 \n",
      "=================================================================\n",
      "Total params: 2,127,002\n",
      "Trainable params: 2,127,002\n",
      "Non-trainable params: 0\n",
      "_________________________________________________________________\n"
     ]
    }
   ],
   "source": [
    "model.summary()"
   ]
  },
  {
   "cell_type": "code",
   "execution_count": 70,
   "id": "f926c586",
   "metadata": {},
   "outputs": [
    {
     "name": "stdout",
     "output_type": "stream",
     "text": [
      "Epoch 3/10\n",
      "   5/1688 [..............................] - ETA: 33s - loss: 0.1594 - accuracy: 0.9375 "
     ]
    },
    {
     "name": "stderr",
     "output_type": "stream",
     "text": [
      "2022-07-25 17:53:17.159787: I tensorflow/core/grappler/optimizers/custom_graph_optimizer_registry.cc:113] Plugin optimizer for device_type GPU is enabled.\n"
     ]
    },
    {
     "name": "stdout",
     "output_type": "stream",
     "text": [
      "1688/1688 [==============================] - ETA: 0s - loss: 0.2125 - accuracy: 0.9210"
     ]
    },
    {
     "name": "stderr",
     "output_type": "stream",
     "text": [
      "2022-07-25 17:53:39.541339: I tensorflow/core/grappler/optimizers/custom_graph_optimizer_registry.cc:113] Plugin optimizer for device_type GPU is enabled.\n"
     ]
    },
    {
     "name": "stdout",
     "output_type": "stream",
     "text": [
      "1688/1688 [==============================] - 24s 14ms/step - loss: 0.2125 - accuracy: 0.9210 - val_loss: 0.2589 - val_accuracy: 0.9047\n",
      "Epoch 4/10\n",
      "1688/1688 [==============================] - 25s 15ms/step - loss: 0.1685 - accuracy: 0.9363 - val_loss: 0.2618 - val_accuracy: 0.9117\n",
      "Epoch 5/10\n",
      "1688/1688 [==============================] - 24s 14ms/step - loss: 0.1308 - accuracy: 0.9509 - val_loss: 0.2972 - val_accuracy: 0.9078\n",
      "Epoch 6/10\n",
      "1688/1688 [==============================] - 24s 14ms/step - loss: 0.0984 - accuracy: 0.9634 - val_loss: 0.3339 - val_accuracy: 0.9090\n",
      "Epoch 7/10\n",
      "1688/1688 [==============================] - 24s 14ms/step - loss: 0.0802 - accuracy: 0.9696 - val_loss: 0.3406 - val_accuracy: 0.9103\n",
      "Epoch 8/10\n",
      "1688/1688 [==============================] - 24s 14ms/step - loss: 0.0603 - accuracy: 0.9775 - val_loss: 0.4114 - val_accuracy: 0.9090\n",
      "Epoch 9/10\n",
      "1688/1688 [==============================] - 24s 14ms/step - loss: 0.0465 - accuracy: 0.9826 - val_loss: 0.4299 - val_accuracy: 0.9087\n",
      "Epoch 10/10\n",
      "1688/1688 [==============================] - 24s 14ms/step - loss: 0.0416 - accuracy: 0.9850 - val_loss: 0.4383 - val_accuracy: 0.9137\n"
     ]
    },
    {
     "data": {
      "text/plain": [
       "<keras.callbacks.History at 0x29b8d9fa0>"
      ]
     },
     "execution_count": 70,
     "metadata": {},
     "output_type": "execute_result"
    }
   ],
   "source": [
    "model.fit(train_images,train_labels,epochs=10,validation_split=0.1,initial_epoch=2)"
   ]
  },
  {
   "cell_type": "code",
   "execution_count": null,
   "id": "0ec33540",
   "metadata": {},
   "outputs": [],
   "source": []
  }
 ],
 "metadata": {
  "kernelspec": {
   "display_name": "Python 3 (ipykernel)",
   "language": "python",
   "name": "python3"
  },
  "language_info": {
   "codemirror_mode": {
    "name": "ipython",
    "version": 3
   },
   "file_extension": ".py",
   "mimetype": "text/x-python",
   "name": "python",
   "nbconvert_exporter": "python",
   "pygments_lexer": "ipython3",
   "version": "3.9.12"
  }
 },
 "nbformat": 4,
 "nbformat_minor": 5
}
